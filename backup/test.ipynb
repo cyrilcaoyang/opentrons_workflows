{
 "cells": [
  {
   "cell_type": "code",
   "execution_count": 1,
   "metadata": {},
   "outputs": [],
   "source": [
    "from OT2wrapper import OT2"
   ]
  },
  {
   "cell_type": "code",
   "execution_count": 2,
   "metadata": {},
   "outputs": [
    {
     "name": "stdout",
     "output_type": "stream",
     "text": [
      "plate loaded\n",
      "tiprack_1 loaded\n",
      "tiprack_2 loaded\n",
      "reservoir loaded\n",
      "p300 loaded\n"
     ]
    },
    {
     "data": {
      "text/html": [
       "<pre style=\"white-space:pre;overflow-x:auto;line-height:normal;font-family:Menlo,'DejaVu Sans Mono',consolas,'Courier New',monospace\">16:17:55.201 | <span style=\"color: #008080; text-decoration-color: #008080\">INFO</span>    | prefect.engine - Created flow run<span style=\"color: #800080; text-decoration-color: #800080\"> 'happy-cassowary'</span> for flow<span style=\"color: #800080; text-decoration-color: #800080; font-weight: bold\"> 'home'</span>\n",
       "</pre>\n"
      ],
      "text/plain": [
       "16:17:55.201 | \u001b[36mINFO\u001b[0m    | prefect.engine - Created flow run\u001b[35m 'happy-cassowary'\u001b[0m for flow\u001b[1;35m 'home'\u001b[0m\n"
      ]
     },
     "metadata": {},
     "output_type": "display_data"
    },
    {
     "data": {
      "text/html": [
       "<pre style=\"white-space:pre;overflow-x:auto;line-height:normal;font-family:Menlo,'DejaVu Sans Mono',consolas,'Courier New',monospace\">16:17:55.206 | <span style=\"color: #008080; text-decoration-color: #008080\">INFO</span>    | prefect.engine - View at <span style=\"color: #0000ff; text-decoration-color: #0000ff\">https://app.prefect.cloud/account/9f14d0e0-8b91-41bb-a3a8-8ad24b4314b0/workspace/2f9b0242-2e4b-4879-bd1d-f074c5097940/runs/flow-run/676adfd2-9849-4b89-baca-9a41ad9e425d</span>\n",
       "</pre>\n"
      ],
      "text/plain": [
       "16:17:55.206 | \u001b[36mINFO\u001b[0m    | prefect.engine - View at \u001b[94mhttps://app.prefect.cloud/account/9f14d0e0-8b91-41bb-a3a8-8ad24b4314b0/workspace/2f9b0242-2e4b-4879-bd1d-f074c5097940/runs/flow-run/676adfd2-9849-4b89-baca-9a41ad9e425d\u001b[0m\n"
      ]
     },
     "metadata": {},
     "output_type": "display_data"
    },
    {
     "data": {
      "text/html": [
       "<pre style=\"white-space:pre;overflow-x:auto;line-height:normal;font-family:Menlo,'DejaVu Sans Mono',consolas,'Courier New',monospace\">16:18:18.224 | <span style=\"color: #008080; text-decoration-color: #008080\">INFO</span>    | Flow run<span style=\"color: #800080; text-decoration-color: #800080\"> 'happy-cassowary'</span> - Finished in state <span style=\"color: #008000; text-decoration-color: #008000\">Completed</span>()\n",
       "</pre>\n"
      ],
      "text/plain": [
       "16:18:18.224 | \u001b[36mINFO\u001b[0m    | Flow run\u001b[35m 'happy-cassowary'\u001b[0m - Finished in state \u001b[32mCompleted\u001b[0m()\n"
      ]
     },
     "metadata": {},
     "output_type": "display_data"
    }
   ],
   "source": [
    "ot2 = OT2()\n",
    "ot2.home()"
   ]
  },
  {
   "cell_type": "code",
   "execution_count": 10,
   "metadata": {},
   "outputs": [],
   "source": [
    "position = [\"B1\", \"B2\", \"B3\"]\n",
    "rows = ['A', 'B', 'C', 'D', 'E', 'F', 'G', 'H']\n",
    "columns = [str(i) for i in range(1, 13)]"
   ]
  },
  {
   "cell_type": "code",
   "execution_count": 11,
   "metadata": {},
   "outputs": [],
   "source": [
    "i=11\n",
    "row = rows[i // 12]\n",
    "col = columns[i % 12]\n",
    "current_well = f\"H{col}\"\n",
    "pos= \"B1\""
   ]
  },
  {
   "cell_type": "code",
   "execution_count": 20,
   "metadata": {},
   "outputs": [
    {
     "data": {
      "text/html": [
       "<pre style=\"white-space:pre;overflow-x:auto;line-height:normal;font-family:Menlo,'DejaVu Sans Mono',consolas,'Courier New',monospace\">16:22:28.293 | <span style=\"color: #008080; text-decoration-color: #008080\">INFO</span>    | prefect.engine - Created flow run<span style=\"color: #800080; text-decoration-color: #800080\"> 'keen-quoll'</span> for flow<span style=\"color: #800080; text-decoration-color: #800080; font-weight: bold\"> 'p-300-pick-up-tip'</span>\n",
       "</pre>\n"
      ],
      "text/plain": [
       "16:22:28.293 | \u001b[36mINFO\u001b[0m    | prefect.engine - Created flow run\u001b[35m 'keen-quoll'\u001b[0m for flow\u001b[1;35m 'p-300-pick-up-tip'\u001b[0m\n"
      ]
     },
     "metadata": {},
     "output_type": "display_data"
    },
    {
     "data": {
      "text/html": [
       "<pre style=\"white-space:pre;overflow-x:auto;line-height:normal;font-family:Menlo,'DejaVu Sans Mono',consolas,'Courier New',monospace\">16:22:28.295 | <span style=\"color: #008080; text-decoration-color: #008080\">INFO</span>    | prefect.engine - View at <span style=\"color: #0000ff; text-decoration-color: #0000ff\">https://app.prefect.cloud/account/9f14d0e0-8b91-41bb-a3a8-8ad24b4314b0/workspace/2f9b0242-2e4b-4879-bd1d-f074c5097940/runs/flow-run/6e2ca407-db57-48a4-828f-4ceffa255d02</span>\n",
       "</pre>\n"
      ],
      "text/plain": [
       "16:22:28.295 | \u001b[36mINFO\u001b[0m    | prefect.engine - View at \u001b[94mhttps://app.prefect.cloud/account/9f14d0e0-8b91-41bb-a3a8-8ad24b4314b0/workspace/2f9b0242-2e4b-4879-bd1d-f074c5097940/runs/flow-run/6e2ca407-db57-48a4-828f-4ceffa255d02\u001b[0m\n"
      ]
     },
     "metadata": {},
     "output_type": "display_data"
    },
    {
     "data": {
      "text/html": [
       "<pre style=\"white-space:pre;overflow-x:auto;line-height:normal;font-family:Menlo,'DejaVu Sans Mono',consolas,'Courier New',monospace\">16:22:34.027 | <span style=\"color: #008080; text-decoration-color: #008080\">INFO</span>    | Flow run<span style=\"color: #800080; text-decoration-color: #800080\"> 'keen-quoll'</span> - Finished in state <span style=\"color: #008000; text-decoration-color: #008000\">Completed</span>()\n",
       "</pre>\n"
      ],
      "text/plain": [
       "16:22:34.027 | \u001b[36mINFO\u001b[0m    | Flow run\u001b[35m 'keen-quoll'\u001b[0m - Finished in state \u001b[32mCompleted\u001b[0m()\n"
      ]
     },
     "metadata": {},
     "output_type": "display_data"
    }
   ],
   "source": [
    "pos= \"B2\"\n",
    "ot2.p_300_pick_up_tip(pos)"
   ]
  },
  {
   "cell_type": "code",
   "execution_count": 16,
   "metadata": {},
   "outputs": [
    {
     "data": {
      "text/html": [
       "<pre style=\"white-space:pre;overflow-x:auto;line-height:normal;font-family:Menlo,'DejaVu Sans Mono',consolas,'Courier New',monospace\">16:21:27.953 | <span style=\"color: #008080; text-decoration-color: #008080\">INFO</span>    | prefect.engine - Created flow run<span style=\"color: #800080; text-decoration-color: #800080\"> 'silver-cheetah'</span> for flow<span style=\"color: #800080; text-decoration-color: #800080; font-weight: bold\"> 'p-300-aspirate'</span>\n",
       "</pre>\n"
      ],
      "text/plain": [
       "16:21:27.953 | \u001b[36mINFO\u001b[0m    | prefect.engine - Created flow run\u001b[35m 'silver-cheetah'\u001b[0m for flow\u001b[1;35m 'p-300-aspirate'\u001b[0m\n"
      ]
     },
     "metadata": {},
     "output_type": "display_data"
    },
    {
     "data": {
      "text/html": [
       "<pre style=\"white-space:pre;overflow-x:auto;line-height:normal;font-family:Menlo,'DejaVu Sans Mono',consolas,'Courier New',monospace\">16:21:27.955 | <span style=\"color: #008080; text-decoration-color: #008080\">INFO</span>    | prefect.engine - View at <span style=\"color: #0000ff; text-decoration-color: #0000ff\">https://app.prefect.cloud/account/9f14d0e0-8b91-41bb-a3a8-8ad24b4314b0/workspace/2f9b0242-2e4b-4879-bd1d-f074c5097940/runs/flow-run/04597ffc-1184-4a0f-b6d4-e3046ac372b0</span>\n",
       "</pre>\n"
      ],
      "text/plain": [
       "16:21:27.955 | \u001b[36mINFO\u001b[0m    | prefect.engine - View at \u001b[94mhttps://app.prefect.cloud/account/9f14d0e0-8b91-41bb-a3a8-8ad24b4314b0/workspace/2f9b0242-2e4b-4879-bd1d-f074c5097940/runs/flow-run/04597ffc-1184-4a0f-b6d4-e3046ac372b0\u001b[0m\n"
      ]
     },
     "metadata": {},
     "output_type": "display_data"
    },
    {
     "data": {
      "text/html": [
       "<pre style=\"white-space:pre;overflow-x:auto;line-height:normal;font-family:Menlo,'DejaVu Sans Mono',consolas,'Courier New',monospace\">16:21:31.908 | <span style=\"color: #008080; text-decoration-color: #008080\">INFO</span>    | Flow run<span style=\"color: #800080; text-decoration-color: #800080\"> 'silver-cheetah'</span> - Finished in state <span style=\"color: #008000; text-decoration-color: #008000\">Completed</span>()\n",
       "</pre>\n"
      ],
      "text/plain": [
       "16:21:31.908 | \u001b[36mINFO\u001b[0m    | Flow run\u001b[35m 'silver-cheetah'\u001b[0m - Finished in state \u001b[32mCompleted\u001b[0m()\n"
      ]
     },
     "metadata": {},
     "output_type": "display_data"
    }
   ],
   "source": [
    "Aspirate_Volume = 80 # uL\n",
    "ot2.p_300_aspirate(pos,Aspirate_Volume)"
   ]
  },
  {
   "cell_type": "code",
   "execution_count": 17,
   "metadata": {},
   "outputs": [
    {
     "data": {
      "text/html": [
       "<pre style=\"white-space:pre;overflow-x:auto;line-height:normal;font-family:Menlo,'DejaVu Sans Mono',consolas,'Courier New',monospace\">16:21:33.871 | <span style=\"color: #008080; text-decoration-color: #008080\">INFO</span>    | prefect.engine - Created flow run<span style=\"color: #800080; text-decoration-color: #800080\"> 'cream-loon'</span> for flow<span style=\"color: #800080; text-decoration-color: #800080; font-weight: bold\"> 'dispense'</span>\n",
       "</pre>\n"
      ],
      "text/plain": [
       "16:21:33.871 | \u001b[36mINFO\u001b[0m    | prefect.engine - Created flow run\u001b[35m 'cream-loon'\u001b[0m for flow\u001b[1;35m 'dispense'\u001b[0m\n"
      ]
     },
     "metadata": {},
     "output_type": "display_data"
    },
    {
     "data": {
      "text/html": [
       "<pre style=\"white-space:pre;overflow-x:auto;line-height:normal;font-family:Menlo,'DejaVu Sans Mono',consolas,'Courier New',monospace\">16:21:33.873 | <span style=\"color: #008080; text-decoration-color: #008080\">INFO</span>    | prefect.engine - View at <span style=\"color: #0000ff; text-decoration-color: #0000ff\">https://app.prefect.cloud/account/9f14d0e0-8b91-41bb-a3a8-8ad24b4314b0/workspace/2f9b0242-2e4b-4879-bd1d-f074c5097940/runs/flow-run/02b3d2f2-8b91-4b81-977f-cadea360a9a7</span>\n",
       "</pre>\n"
      ],
      "text/plain": [
       "16:21:33.873 | \u001b[36mINFO\u001b[0m    | prefect.engine - View at \u001b[94mhttps://app.prefect.cloud/account/9f14d0e0-8b91-41bb-a3a8-8ad24b4314b0/workspace/2f9b0242-2e4b-4879-bd1d-f074c5097940/runs/flow-run/02b3d2f2-8b91-4b81-977f-cadea360a9a7\u001b[0m\n"
      ]
     },
     "metadata": {},
     "output_type": "display_data"
    },
    {
     "data": {
      "text/html": [
       "<pre style=\"white-space:pre;overflow-x:auto;line-height:normal;font-family:Menlo,'DejaVu Sans Mono',consolas,'Courier New',monospace\">16:21:39.514 | <span style=\"color: #008080; text-decoration-color: #008080\">INFO</span>    | Flow run<span style=\"color: #800080; text-decoration-color: #800080\"> 'cream-loon'</span> - Finished in state <span style=\"color: #008000; text-decoration-color: #008000\">Completed</span>()\n",
       "</pre>\n"
      ],
      "text/plain": [
       "16:21:39.514 | \u001b[36mINFO\u001b[0m    | Flow run\u001b[35m 'cream-loon'\u001b[0m - Finished in state \u001b[32mCompleted\u001b[0m()\n"
      ]
     },
     "metadata": {},
     "output_type": "display_data"
    }
   ],
   "source": [
    "Dispense_Volume = 80 # uL,\n",
    "ot2.dispense(current_well,Dispense_Volume)"
   ]
  },
  {
   "cell_type": "code",
   "execution_count": 18,
   "metadata": {},
   "outputs": [
    {
     "data": {
      "text/html": [
       "<pre style=\"white-space:pre;overflow-x:auto;line-height:normal;font-family:Menlo,'DejaVu Sans Mono',consolas,'Courier New',monospace\">16:21:46.697 | <span style=\"color: #008080; text-decoration-color: #008080\">INFO</span>    | prefect.engine - Created flow run<span style=\"color: #800080; text-decoration-color: #800080\"> 'outstanding-beluga'</span> for flow<span style=\"color: #800080; text-decoration-color: #800080; font-weight: bold\"> 'set-speed'</span>\n",
       "</pre>\n"
      ],
      "text/plain": [
       "16:21:46.697 | \u001b[36mINFO\u001b[0m    | prefect.engine - Created flow run\u001b[35m 'outstanding-beluga'\u001b[0m for flow\u001b[1;35m 'set-speed'\u001b[0m\n"
      ]
     },
     "metadata": {},
     "output_type": "display_data"
    },
    {
     "data": {
      "text/html": [
       "<pre style=\"white-space:pre;overflow-x:auto;line-height:normal;font-family:Menlo,'DejaVu Sans Mono',consolas,'Courier New',monospace\">16:21:46.699 | <span style=\"color: #008080; text-decoration-color: #008080\">INFO</span>    | prefect.engine - View at <span style=\"color: #0000ff; text-decoration-color: #0000ff\">https://app.prefect.cloud/account/9f14d0e0-8b91-41bb-a3a8-8ad24b4314b0/workspace/2f9b0242-2e4b-4879-bd1d-f074c5097940/runs/flow-run/7372952b-4e19-4b6f-a909-eb1f8e8d7855</span>\n",
       "</pre>\n"
      ],
      "text/plain": [
       "16:21:46.699 | \u001b[36mINFO\u001b[0m    | prefect.engine - View at \u001b[94mhttps://app.prefect.cloud/account/9f14d0e0-8b91-41bb-a3a8-8ad24b4314b0/workspace/2f9b0242-2e4b-4879-bd1d-f074c5097940/runs/flow-run/7372952b-4e19-4b6f-a909-eb1f8e8d7855\u001b[0m\n"
      ]
     },
     "metadata": {},
     "output_type": "display_data"
    },
    {
     "data": {
      "text/html": [
       "<pre style=\"white-space:pre;overflow-x:auto;line-height:normal;font-family:Menlo,'DejaVu Sans Mono',consolas,'Courier New',monospace\">16:21:47.081 | <span style=\"color: #008080; text-decoration-color: #008080\">INFO</span>    | Flow run<span style=\"color: #800080; text-decoration-color: #800080\"> 'outstanding-beluga'</span> - Finished in state <span style=\"color: #008000; text-decoration-color: #008000\">Completed</span>()\n",
       "</pre>\n"
      ],
      "text/plain": [
       "16:21:47.081 | \u001b[36mINFO\u001b[0m    | Flow run\u001b[35m 'outstanding-beluga'\u001b[0m - Finished in state \u001b[32mCompleted\u001b[0m()\n"
      ]
     },
     "metadata": {},
     "output_type": "display_data"
    },
    {
     "data": {
      "text/html": [
       "<pre style=\"white-space:pre;overflow-x:auto;line-height:normal;font-family:Menlo,'DejaVu Sans Mono',consolas,'Courier New',monospace\">16:21:47.598 | <span style=\"color: #008080; text-decoration-color: #008080\">INFO</span>    | prefect.engine - Created flow run<span style=\"color: #800080; text-decoration-color: #800080\"> 'sociable-okapi'</span> for flow<span style=\"color: #800080; text-decoration-color: #800080; font-weight: bold\"> 'blow-out'</span>\n",
       "</pre>\n"
      ],
      "text/plain": [
       "16:21:47.598 | \u001b[36mINFO\u001b[0m    | prefect.engine - Created flow run\u001b[35m 'sociable-okapi'\u001b[0m for flow\u001b[1;35m 'blow-out'\u001b[0m\n"
      ]
     },
     "metadata": {},
     "output_type": "display_data"
    },
    {
     "data": {
      "text/html": [
       "<pre style=\"white-space:pre;overflow-x:auto;line-height:normal;font-family:Menlo,'DejaVu Sans Mono',consolas,'Courier New',monospace\">16:21:47.600 | <span style=\"color: #008080; text-decoration-color: #008080\">INFO</span>    | prefect.engine - View at <span style=\"color: #0000ff; text-decoration-color: #0000ff\">https://app.prefect.cloud/account/9f14d0e0-8b91-41bb-a3a8-8ad24b4314b0/workspace/2f9b0242-2e4b-4879-bd1d-f074c5097940/runs/flow-run/5b0ab3c5-d97d-4d0b-97f2-b19026fb752e</span>\n",
       "</pre>\n"
      ],
      "text/plain": [
       "16:21:47.600 | \u001b[36mINFO\u001b[0m    | prefect.engine - View at \u001b[94mhttps://app.prefect.cloud/account/9f14d0e0-8b91-41bb-a3a8-8ad24b4314b0/workspace/2f9b0242-2e4b-4879-bd1d-f074c5097940/runs/flow-run/5b0ab3c5-d97d-4d0b-97f2-b19026fb752e\u001b[0m\n"
      ]
     },
     "metadata": {},
     "output_type": "display_data"
    },
    {
     "data": {
      "text/html": [
       "<pre style=\"white-space:pre;overflow-x:auto;line-height:normal;font-family:Menlo,'DejaVu Sans Mono',consolas,'Courier New',monospace\">16:21:52.323 | <span style=\"color: #008080; text-decoration-color: #008080\">INFO</span>    | Flow run<span style=\"color: #800080; text-decoration-color: #800080\"> 'sociable-okapi'</span> - Finished in state <span style=\"color: #008000; text-decoration-color: #008000\">Completed</span>()\n",
       "</pre>\n"
      ],
      "text/plain": [
       "16:21:52.323 | \u001b[36mINFO\u001b[0m    | Flow run\u001b[35m 'sociable-okapi'\u001b[0m - Finished in state \u001b[32mCompleted\u001b[0m()\n"
      ]
     },
     "metadata": {},
     "output_type": "display_data"
    }
   ],
   "source": [
    "ot2.set_speed(100)\n",
    "ot2.blow_out()"
   ]
  },
  {
   "cell_type": "code",
   "execution_count": 21,
   "metadata": {},
   "outputs": [
    {
     "data": {
      "text/html": [
       "<pre style=\"white-space:pre;overflow-x:auto;line-height:normal;font-family:Menlo,'DejaVu Sans Mono',consolas,'Courier New',monospace\">16:22:45.375 | <span style=\"color: #008080; text-decoration-color: #008080\">INFO</span>    | prefect.engine - Created flow run<span style=\"color: #800080; text-decoration-color: #800080\"> 'accelerated-woodpecker'</span> for flow<span style=\"color: #800080; text-decoration-color: #800080; font-weight: bold\"> 'set-speed'</span>\n",
       "</pre>\n"
      ],
      "text/plain": [
       "16:22:45.375 | \u001b[36mINFO\u001b[0m    | prefect.engine - Created flow run\u001b[35m 'accelerated-woodpecker'\u001b[0m for flow\u001b[1;35m 'set-speed'\u001b[0m\n"
      ]
     },
     "metadata": {},
     "output_type": "display_data"
    },
    {
     "data": {
      "text/html": [
       "<pre style=\"white-space:pre;overflow-x:auto;line-height:normal;font-family:Menlo,'DejaVu Sans Mono',consolas,'Courier New',monospace\">16:22:45.377 | <span style=\"color: #008080; text-decoration-color: #008080\">INFO</span>    | prefect.engine - View at <span style=\"color: #0000ff; text-decoration-color: #0000ff\">https://app.prefect.cloud/account/9f14d0e0-8b91-41bb-a3a8-8ad24b4314b0/workspace/2f9b0242-2e4b-4879-bd1d-f074c5097940/runs/flow-run/193f15de-a114-4060-b7eb-5b946fbe10a4</span>\n",
       "</pre>\n"
      ],
      "text/plain": [
       "16:22:45.377 | \u001b[36mINFO\u001b[0m    | prefect.engine - View at \u001b[94mhttps://app.prefect.cloud/account/9f14d0e0-8b91-41bb-a3a8-8ad24b4314b0/workspace/2f9b0242-2e4b-4879-bd1d-f074c5097940/runs/flow-run/193f15de-a114-4060-b7eb-5b946fbe10a4\u001b[0m\n"
      ]
     },
     "metadata": {},
     "output_type": "display_data"
    },
    {
     "data": {
      "text/html": [
       "<pre style=\"white-space:pre;overflow-x:auto;line-height:normal;font-family:Menlo,'DejaVu Sans Mono',consolas,'Courier New',monospace\">16:22:45.778 | <span style=\"color: #008080; text-decoration-color: #008080\">INFO</span>    | Flow run<span style=\"color: #800080; text-decoration-color: #800080\"> 'accelerated-woodpecker'</span> - Finished in state <span style=\"color: #008000; text-decoration-color: #008000\">Completed</span>()\n",
       "</pre>\n"
      ],
      "text/plain": [
       "16:22:45.778 | \u001b[36mINFO\u001b[0m    | Flow run\u001b[35m 'accelerated-woodpecker'\u001b[0m - Finished in state \u001b[32mCompleted\u001b[0m()\n"
      ]
     },
     "metadata": {},
     "output_type": "display_data"
    },
    {
     "data": {
      "text/html": [
       "<pre style=\"white-space:pre;overflow-x:auto;line-height:normal;font-family:Menlo,'DejaVu Sans Mono',consolas,'Courier New',monospace\">16:22:46.255 | <span style=\"color: #008080; text-decoration-color: #008080\">INFO</span>    | prefect.engine - Created flow run<span style=\"color: #800080; text-decoration-color: #800080\"> 'alluring-bittern'</span> for flow<span style=\"color: #800080; text-decoration-color: #800080; font-weight: bold\"> 'drop-tip'</span>\n",
       "</pre>\n"
      ],
      "text/plain": [
       "16:22:46.255 | \u001b[36mINFO\u001b[0m    | prefect.engine - Created flow run\u001b[35m 'alluring-bittern'\u001b[0m for flow\u001b[1;35m 'drop-tip'\u001b[0m\n"
      ]
     },
     "metadata": {},
     "output_type": "display_data"
    },
    {
     "data": {
      "text/html": [
       "<pre style=\"white-space:pre;overflow-x:auto;line-height:normal;font-family:Menlo,'DejaVu Sans Mono',consolas,'Courier New',monospace\">16:22:46.256 | <span style=\"color: #008080; text-decoration-color: #008080\">INFO</span>    | prefect.engine - View at <span style=\"color: #0000ff; text-decoration-color: #0000ff\">https://app.prefect.cloud/account/9f14d0e0-8b91-41bb-a3a8-8ad24b4314b0/workspace/2f9b0242-2e4b-4879-bd1d-f074c5097940/runs/flow-run/7d018478-5f13-4b95-a102-80394f7ca1a4</span>\n",
       "</pre>\n"
      ],
      "text/plain": [
       "16:22:46.256 | \u001b[36mINFO\u001b[0m    | prefect.engine - View at \u001b[94mhttps://app.prefect.cloud/account/9f14d0e0-8b91-41bb-a3a8-8ad24b4314b0/workspace/2f9b0242-2e4b-4879-bd1d-f074c5097940/runs/flow-run/7d018478-5f13-4b95-a102-80394f7ca1a4\u001b[0m\n"
      ]
     },
     "metadata": {},
     "output_type": "display_data"
    },
    {
     "data": {
      "text/html": [
       "<pre style=\"white-space:pre;overflow-x:auto;line-height:normal;font-family:Menlo,'DejaVu Sans Mono',consolas,'Courier New',monospace\">16:22:58.249 | <span style=\"color: #008080; text-decoration-color: #008080\">INFO</span>    | Flow run<span style=\"color: #800080; text-decoration-color: #800080\"> 'alluring-bittern'</span> - Finished in state <span style=\"color: #008000; text-decoration-color: #008000\">Completed</span>()\n",
       "</pre>\n"
      ],
      "text/plain": [
       "16:22:58.249 | \u001b[36mINFO\u001b[0m    | Flow run\u001b[35m 'alluring-bittern'\u001b[0m - Finished in state \u001b[32mCompleted\u001b[0m()\n"
      ]
     },
     "metadata": {},
     "output_type": "display_data"
    }
   ],
   "source": [
    "ot2.set_speed(400)\n",
    "ot2.drop_tip(pos,tiptrack=\"tiprack_1\")"
   ]
  },
  {
   "cell_type": "code",
   "execution_count": 10,
   "metadata": {},
   "outputs": [
    {
     "data": {
      "text/html": [
       "<pre style=\"white-space:pre;overflow-x:auto;line-height:normal;font-family:Menlo,'DejaVu Sans Mono',consolas,'Courier New',monospace\">17:40:29.462 | <span style=\"color: #008080; text-decoration-color: #008080\">INFO</span>    | prefect.engine - Created flow run<span style=\"color: #800080; text-decoration-color: #800080\"> 'soft-pronghorn'</span> for flow<span style=\"color: #800080; text-decoration-color: #800080; font-weight: bold\"> 'pick-up-tip'</span>\n",
       "</pre>\n"
      ],
      "text/plain": [
       "17:40:29.462 | \u001b[36mINFO\u001b[0m    | prefect.engine - Created flow run\u001b[35m 'soft-pronghorn'\u001b[0m for flow\u001b[1;35m 'pick-up-tip'\u001b[0m\n"
      ]
     },
     "metadata": {},
     "output_type": "display_data"
    },
    {
     "data": {
      "text/html": [
       "<pre style=\"white-space:pre;overflow-x:auto;line-height:normal;font-family:Menlo,'DejaVu Sans Mono',consolas,'Courier New',monospace\">17:40:29.463 | <span style=\"color: #008080; text-decoration-color: #008080\">INFO</span>    | prefect.engine - View at <span style=\"color: #0000ff; text-decoration-color: #0000ff\">https://app.prefect.cloud/account/9f14d0e0-8b91-41bb-a3a8-8ad24b4314b0/workspace/2f9b0242-2e4b-4879-bd1d-f074c5097940/runs/flow-run/42ff1a01-f6a9-4441-9a9b-73edf4809b5f</span>\n",
       "</pre>\n"
      ],
      "text/plain": [
       "17:40:29.463 | \u001b[36mINFO\u001b[0m    | prefect.engine - View at \u001b[94mhttps://app.prefect.cloud/account/9f14d0e0-8b91-41bb-a3a8-8ad24b4314b0/workspace/2f9b0242-2e4b-4879-bd1d-f074c5097940/runs/flow-run/42ff1a01-f6a9-4441-9a9b-73edf4809b5f\u001b[0m\n"
      ]
     },
     "metadata": {},
     "output_type": "display_data"
    },
    {
     "data": {
      "text/html": [
       "<pre style=\"white-space:pre;overflow-x:auto;line-height:normal;font-family:Menlo,'DejaVu Sans Mono',consolas,'Courier New',monospace\">17:40:35.613 | <span style=\"color: #008080; text-decoration-color: #008080\">INFO</span>    | Flow run<span style=\"color: #800080; text-decoration-color: #800080\"> 'soft-pronghorn'</span> - Finished in state <span style=\"color: #008000; text-decoration-color: #008000\">Completed</span>()\n",
       "</pre>\n"
      ],
      "text/plain": [
       "17:40:35.613 | \u001b[36mINFO\u001b[0m    | Flow run\u001b[35m 'soft-pronghorn'\u001b[0m - Finished in state \u001b[32mCompleted\u001b[0m()\n"
      ]
     },
     "metadata": {},
     "output_type": "display_data"
    }
   ],
   "source": [
    "ot2.pick_up_tip(\"A2\",tiptrack=\"tiprack_2\")"
   ]
  },
  {
   "cell_type": "code",
   "execution_count": 11,
   "metadata": {},
   "outputs": [
    {
     "data": {
      "text/html": [
       "<pre style=\"white-space:pre;overflow-x:auto;line-height:normal;font-family:Menlo,'DejaVu Sans Mono',consolas,'Courier New',monospace\">17:40:38.296 | <span style=\"color: #008080; text-decoration-color: #008080\">INFO</span>    | prefect.engine - Created flow run<span style=\"color: #800080; text-decoration-color: #800080\"> 'beautiful-mosquito'</span> for flow<span style=\"color: #800080; text-decoration-color: #800080; font-weight: bold\"> 'move-to'</span>\n",
       "</pre>\n"
      ],
      "text/plain": [
       "17:40:38.296 | \u001b[36mINFO\u001b[0m    | prefect.engine - Created flow run\u001b[35m 'beautiful-mosquito'\u001b[0m for flow\u001b[1;35m 'move-to'\u001b[0m\n"
      ]
     },
     "metadata": {},
     "output_type": "display_data"
    },
    {
     "data": {
      "text/html": [
       "<pre style=\"white-space:pre;overflow-x:auto;line-height:normal;font-family:Menlo,'DejaVu Sans Mono',consolas,'Courier New',monospace\">17:40:38.298 | <span style=\"color: #008080; text-decoration-color: #008080\">INFO</span>    | prefect.engine - View at <span style=\"color: #0000ff; text-decoration-color: #0000ff\">https://app.prefect.cloud/account/9f14d0e0-8b91-41bb-a3a8-8ad24b4314b0/workspace/2f9b0242-2e4b-4879-bd1d-f074c5097940/runs/flow-run/890267cf-0126-4b37-be91-f5622f37055f</span>\n",
       "</pre>\n"
      ],
      "text/plain": [
       "17:40:38.298 | \u001b[36mINFO\u001b[0m    | prefect.engine - View at \u001b[94mhttps://app.prefect.cloud/account/9f14d0e0-8b91-41bb-a3a8-8ad24b4314b0/workspace/2f9b0242-2e4b-4879-bd1d-f074c5097940/runs/flow-run/890267cf-0126-4b37-be91-f5622f37055f\u001b[0m\n"
      ]
     },
     "metadata": {},
     "output_type": "display_data"
    },
    {
     "data": {
      "text/html": [
       "<pre style=\"white-space:pre;overflow-x:auto;line-height:normal;font-family:Menlo,'DejaVu Sans Mono',consolas,'Courier New',monospace\">17:40:40.516 | <span style=\"color: #008080; text-decoration-color: #008080\">INFO</span>    | Flow run<span style=\"color: #800080; text-decoration-color: #800080\"> 'beautiful-mosquito'</span> - Finished in state <span style=\"color: #008000; text-decoration-color: #008000\">Completed</span>()\n",
       "</pre>\n"
      ],
      "text/plain": [
       "17:40:40.516 | \u001b[36mINFO\u001b[0m    | Flow run\u001b[35m 'beautiful-mosquito'\u001b[0m - Finished in state \u001b[32mCompleted\u001b[0m()\n"
      ]
     },
     "metadata": {},
     "output_type": "display_data"
    }
   ],
   "source": [
    "ot2.move_to(current_well)"
   ]
  },
  {
   "cell_type": "code",
   "execution_count": 12,
   "metadata": {},
   "outputs": [
    {
     "data": {
      "text/html": [
       "<pre style=\"white-space:pre;overflow-x:auto;line-height:normal;font-family:Menlo,'DejaVu Sans Mono',consolas,'Courier New',monospace\">17:40:45.393 | <span style=\"color: #008080; text-decoration-color: #008080\">INFO</span>    | prefect.engine - Created flow run<span style=\"color: #800080; text-decoration-color: #800080\"> 'tourmaline-caribou'</span> for flow<span style=\"color: #800080; text-decoration-color: #800080; font-weight: bold\"> 'drop-tip-color-sensor'</span>\n",
       "</pre>\n"
      ],
      "text/plain": [
       "17:40:45.393 | \u001b[36mINFO\u001b[0m    | prefect.engine - Created flow run\u001b[35m 'tourmaline-caribou'\u001b[0m for flow\u001b[1;35m 'drop-tip-color-sensor'\u001b[0m\n"
      ]
     },
     "metadata": {},
     "output_type": "display_data"
    },
    {
     "data": {
      "text/html": [
       "<pre style=\"white-space:pre;overflow-x:auto;line-height:normal;font-family:Menlo,'DejaVu Sans Mono',consolas,'Courier New',monospace\">17:40:45.394 | <span style=\"color: #008080; text-decoration-color: #008080\">INFO</span>    | prefect.engine - View at <span style=\"color: #0000ff; text-decoration-color: #0000ff\">https://app.prefect.cloud/account/9f14d0e0-8b91-41bb-a3a8-8ad24b4314b0/workspace/2f9b0242-2e4b-4879-bd1d-f074c5097940/runs/flow-run/3e2c2abf-8dd9-486d-8071-64f98bb51bd8</span>\n",
       "</pre>\n"
      ],
      "text/plain": [
       "17:40:45.394 | \u001b[36mINFO\u001b[0m    | prefect.engine - View at \u001b[94mhttps://app.prefect.cloud/account/9f14d0e0-8b91-41bb-a3a8-8ad24b4314b0/workspace/2f9b0242-2e4b-4879-bd1d-f074c5097940/runs/flow-run/3e2c2abf-8dd9-486d-8071-64f98bb51bd8\u001b[0m\n"
      ]
     },
     "metadata": {},
     "output_type": "display_data"
    },
    {
     "data": {
      "text/html": [
       "<pre style=\"white-space:pre;overflow-x:auto;line-height:normal;font-family:Menlo,'DejaVu Sans Mono',consolas,'Courier New',monospace\">17:40:58.872 | <span style=\"color: #008080; text-decoration-color: #008080\">INFO</span>    | Flow run<span style=\"color: #800080; text-decoration-color: #800080\"> 'tourmaline-caribou'</span> - Finished in state <span style=\"color: #008000; text-decoration-color: #008000\">Completed</span>()\n",
       "</pre>\n"
      ],
      "text/plain": [
       "17:40:58.872 | \u001b[36mINFO\u001b[0m    | Flow run\u001b[35m 'tourmaline-caribou'\u001b[0m - Finished in state \u001b[32mCompleted\u001b[0m()\n"
      ]
     },
     "metadata": {},
     "output_type": "display_data"
    }
   ],
   "source": [
    "ot2.drop_tip_color_sensor(\"A2\",tiptrack=\"tiprack_2\")"
   ]
  },
  {
   "cell_type": "code",
   "execution_count": 9,
   "metadata": {},
   "outputs": [
    {
     "data": {
      "text/html": [
       "<pre style=\"white-space:pre;overflow-x:auto;line-height:normal;font-family:Menlo,'DejaVu Sans Mono',consolas,'Courier New',monospace\">16:20:00.031 | <span style=\"color: #008080; text-decoration-color: #008080\">INFO</span>    | prefect.engine - Created flow run<span style=\"color: #800080; text-decoration-color: #800080\"> 'amorphous-junglefowl'</span> for flow<span style=\"color: #800080; text-decoration-color: #800080; font-weight: bold\"> 'home'</span>\n",
       "</pre>\n"
      ],
      "text/plain": [
       "16:20:00.031 | \u001b[36mINFO\u001b[0m    | prefect.engine - Created flow run\u001b[35m 'amorphous-junglefowl'\u001b[0m for flow\u001b[1;35m 'home'\u001b[0m\n"
      ]
     },
     "metadata": {},
     "output_type": "display_data"
    },
    {
     "data": {
      "text/html": [
       "<pre style=\"white-space:pre;overflow-x:auto;line-height:normal;font-family:Menlo,'DejaVu Sans Mono',consolas,'Courier New',monospace\">16:20:00.033 | <span style=\"color: #008080; text-decoration-color: #008080\">INFO</span>    | prefect.engine - View at <span style=\"color: #0000ff; text-decoration-color: #0000ff\">https://app.prefect.cloud/account/9f14d0e0-8b91-41bb-a3a8-8ad24b4314b0/workspace/2f9b0242-2e4b-4879-bd1d-f074c5097940/runs/flow-run/04fb42e7-a7d6-4b31-88a1-bd369ed0dc21</span>\n",
       "</pre>\n"
      ],
      "text/plain": [
       "16:20:00.033 | \u001b[36mINFO\u001b[0m    | prefect.engine - View at \u001b[94mhttps://app.prefect.cloud/account/9f14d0e0-8b91-41bb-a3a8-8ad24b4314b0/workspace/2f9b0242-2e4b-4879-bd1d-f074c5097940/runs/flow-run/04fb42e7-a7d6-4b31-88a1-bd369ed0dc21\u001b[0m\n"
      ]
     },
     "metadata": {},
     "output_type": "display_data"
    },
    {
     "data": {
      "text/html": [
       "<pre style=\"white-space:pre;overflow-x:auto;line-height:normal;font-family:Menlo,'DejaVu Sans Mono',consolas,'Courier New',monospace\">16:20:18.151 | <span style=\"color: #008080; text-decoration-color: #008080\">INFO</span>    | Flow run<span style=\"color: #800080; text-decoration-color: #800080\"> 'amorphous-junglefowl'</span> - Finished in state <span style=\"color: #008000; text-decoration-color: #008000\">Completed</span>()\n",
       "</pre>\n"
      ],
      "text/plain": [
       "16:20:18.151 | \u001b[36mINFO\u001b[0m    | Flow run\u001b[35m 'amorphous-junglefowl'\u001b[0m - Finished in state \u001b[32mCompleted\u001b[0m()\n"
      ]
     },
     "metadata": {},
     "output_type": "display_data"
    }
   ],
   "source": [
    "ot2.home()"
   ]
  },
  {
   "cell_type": "code",
   "execution_count": 14,
   "metadata": {},
   "outputs": [
    {
     "data": {
      "text/html": [
       "<pre style=\"white-space:pre;overflow-x:auto;line-height:normal;font-family:Menlo,'DejaVu Sans Mono',consolas,'Courier New',monospace\">17:41:36.494 | <span style=\"color: #008080; text-decoration-color: #008080\">INFO</span>    | prefect.engine - Created flow run<span style=\"color: #800080; text-decoration-color: #800080\"> 'zippy-jackrabbit'</span> for flow<span style=\"color: #800080; text-decoration-color: #800080; font-weight: bold\"> 'close-session'</span>\n",
       "</pre>\n"
      ],
      "text/plain": [
       "17:41:36.494 | \u001b[36mINFO\u001b[0m    | prefect.engine - Created flow run\u001b[35m 'zippy-jackrabbit'\u001b[0m for flow\u001b[1;35m 'close-session'\u001b[0m\n"
      ]
     },
     "metadata": {},
     "output_type": "display_data"
    },
    {
     "data": {
      "text/html": [
       "<pre style=\"white-space:pre;overflow-x:auto;line-height:normal;font-family:Menlo,'DejaVu Sans Mono',consolas,'Courier New',monospace\">17:41:36.497 | <span style=\"color: #008080; text-decoration-color: #008080\">INFO</span>    | prefect.engine - View at <span style=\"color: #0000ff; text-decoration-color: #0000ff\">https://app.prefect.cloud/account/9f14d0e0-8b91-41bb-a3a8-8ad24b4314b0/workspace/2f9b0242-2e4b-4879-bd1d-f074c5097940/runs/flow-run/97ef6289-0dbe-4958-bbb1-dc0aaf9ebf64</span>\n",
       "</pre>\n"
      ],
      "text/plain": [
       "17:41:36.497 | \u001b[36mINFO\u001b[0m    | prefect.engine - View at \u001b[94mhttps://app.prefect.cloud/account/9f14d0e0-8b91-41bb-a3a8-8ad24b4314b0/workspace/2f9b0242-2e4b-4879-bd1d-f074c5097940/runs/flow-run/97ef6289-0dbe-4958-bbb1-dc0aaf9ebf64\u001b[0m\n"
      ]
     },
     "metadata": {},
     "output_type": "display_data"
    },
    {
     "data": {
      "text/html": [
       "<pre style=\"white-space:pre;overflow-x:auto;line-height:normal;font-family:Menlo,'DejaVu Sans Mono',consolas,'Courier New',monospace\">17:41:37.386 | <span style=\"color: #008080; text-decoration-color: #008080\">INFO</span>    | Flow run<span style=\"color: #800080; text-decoration-color: #800080\"> 'zippy-jackrabbit'</span> - Created subflow run<span style=\"color: #800080; text-decoration-color: #800080\"> 'dark-cat'</span> for flow<span style=\"color: #800080; text-decoration-color: #800080; font-weight: bold\"> 'home'</span>\n",
       "</pre>\n"
      ],
      "text/plain": [
       "17:41:37.386 | \u001b[36mINFO\u001b[0m    | Flow run\u001b[35m 'zippy-jackrabbit'\u001b[0m - Created subflow run\u001b[35m 'dark-cat'\u001b[0m for flow\u001b[1;35m 'home'\u001b[0m\n"
      ]
     },
     "metadata": {},
     "output_type": "display_data"
    },
    {
     "data": {
      "text/html": [
       "<pre style=\"white-space:pre;overflow-x:auto;line-height:normal;font-family:Menlo,'DejaVu Sans Mono',consolas,'Courier New',monospace\">17:41:37.388 | <span style=\"color: #008080; text-decoration-color: #008080\">INFO</span>    | prefect.engine - View at <span style=\"color: #0000ff; text-decoration-color: #0000ff\">https://app.prefect.cloud/account/9f14d0e0-8b91-41bb-a3a8-8ad24b4314b0/workspace/2f9b0242-2e4b-4879-bd1d-f074c5097940/runs/flow-run/9ecdc36d-793e-4025-abc6-0eae5cafd4ad</span>\n",
       "</pre>\n"
      ],
      "text/plain": [
       "17:41:37.388 | \u001b[36mINFO\u001b[0m    | prefect.engine - View at \u001b[94mhttps://app.prefect.cloud/account/9f14d0e0-8b91-41bb-a3a8-8ad24b4314b0/workspace/2f9b0242-2e4b-4879-bd1d-f074c5097940/runs/flow-run/9ecdc36d-793e-4025-abc6-0eae5cafd4ad\u001b[0m\n"
      ]
     },
     "metadata": {},
     "output_type": "display_data"
    },
    {
     "data": {
      "text/html": [
       "<pre style=\"white-space:pre;overflow-x:auto;line-height:normal;font-family:Menlo,'DejaVu Sans Mono',consolas,'Courier New',monospace\">17:41:50.323 | <span style=\"color: #008080; text-decoration-color: #008080\">INFO</span>    | Flow run<span style=\"color: #800080; text-decoration-color: #800080\"> 'dark-cat'</span> - Finished in state <span style=\"color: #008000; text-decoration-color: #008000\">Completed</span>()\n",
       "</pre>\n"
      ],
      "text/plain": [
       "17:41:50.323 | \u001b[36mINFO\u001b[0m    | Flow run\u001b[35m 'dark-cat'\u001b[0m - Finished in state \u001b[32mCompleted\u001b[0m()\n"
      ]
     },
     "metadata": {},
     "output_type": "display_data"
    },
    {
     "data": {
      "text/html": [
       "<pre style=\"white-space:pre;overflow-x:auto;line-height:normal;font-family:Menlo,'DejaVu Sans Mono',consolas,'Courier New',monospace\">17:41:51.437 | <span style=\"color: #008080; text-decoration-color: #008080\">INFO</span>    | Flow run<span style=\"color: #800080; text-decoration-color: #800080\"> 'zippy-jackrabbit'</span> - Finished in state <span style=\"color: #008000; text-decoration-color: #008000\">Completed</span>()\n",
       "</pre>\n"
      ],
      "text/plain": [
       "17:41:51.437 | \u001b[36mINFO\u001b[0m    | Flow run\u001b[35m 'zippy-jackrabbit'\u001b[0m - Finished in state \u001b[32mCompleted\u001b[0m()\n"
      ]
     },
     "metadata": {},
     "output_type": "display_data"
    }
   ],
   "source": [
    "ot2.close_session()"
   ]
  },
  {
   "cell_type": "code",
   "execution_count": null,
   "metadata": {},
   "outputs": [],
   "source": []
  }
 ],
 "metadata": {
  "kernelspec": {
   "display_name": "labmind",
   "language": "python",
   "name": "python3"
  },
  "language_info": {
   "codemirror_mode": {
    "name": "ipython",
    "version": 3
   },
   "file_extension": ".py",
   "mimetype": "text/x-python",
   "name": "python",
   "nbconvert_exporter": "python",
   "pygments_lexer": "ipython3",
   "version": "3.11.5"
  }
 },
 "nbformat": 4,
 "nbformat_minor": 2
}
