{
  "cells": [
    {
      "cell_type": "markdown",
      "metadata": {},
      "source": [
        "# Interactive Workflow Development with Jupyter\n\n",
        "This notebook demonstrates the correct way to run `matterlab-opentrons` workflows within a Jupyter Notebook or JupyterLab environment.\n\n",
        "## Important: Asyncio Compatibility\n\n",
        "Because both Jupyter and Prefect run their own asynchronous event loops, you need to apply a patch to allow them to work together. The `nest_asyncio` library provides this patch."
      ]
    },
    {
      "cell_type": "markdown",
      "metadata": {},
      "source": [
        "## Step 1: Apply the Asyncio Patch\n\n",
        "Run the following cell once at the beginning of your notebook session. This allows Prefect's async event loop to run inside Jupyter's."
      ]
    },
    {
      "cell_type": "code",
      "execution_count": null,
      "metadata": {},
      "outputs": [],
      "source": [
        "import nest_asyncio\n",
        "nest_asyncio.apply()\n",
        "print(\"\u2705 Asyncio patch applied successfully!\")"
      ]
    },
    {
      "cell_type": "markdown",
      "metadata": {},
      "source": [
        "## Step 2: Import Your Dependencies\n\n",
        "Now you can import all the necessary components from Prefect and your Opentrons library."
      ]
    },
    {
      "cell_type": "code",
      "execution_count": null,
      "metadata": {},
      "outputs": [],
      "source": [
        "from prefect import flow\n",
        "from matterlab_opentrons import connect\n",
        "from matterlab_opentrons.prefect_tasks import robust_task\n",
        "print(\"\u2705 Dependencies imported successfully!\")"
      ]
    },
    {
      "cell_type": "markdown",
      "metadata": {},
      "source": [
        "## Step 3: Define Your Tasks\n\n",
        "As you would in a normal script, use the `@robust_task` decorator to create tasks for each robot action you intend to use. This is where you can interactively build up the components of your protocol."
      ]
    },
    {
      "cell_type": "code",
      "execution_count": null,
      "metadata": {},
      "outputs": [],
      "source": [
        "@robust_task(retries=2)\n",
        "def pick_up_tip(pipette, *args, **kwargs):\n",
        "    \"\"\"Pick up a tip with retry logic.\"\"\"\n",
        "    return pipette.pick_up_tip(*args, **kwargs)\n\n",
        "@robust_task\n",
        "def aspirate(pipette, *args, **kwargs):\n",
        "    \"\"\"Aspirate liquid from a well.\"\"\"\n",
        "    return pipette.aspirate(*args, **kwargs)\n\n",
        "@robust_task\n",
        "def dispense(pipette, *args, **kwargs):\n",
        "    \"\"\"Dispense liquid to a well.\"\"\"\n",
        "    return pipette.dispense(*args, **kwargs)\n\n",
        "@robust_task\n",
        "def drop_tip(pipette, *args, **kwargs):\n",
        "    \"\"\"Drop the current tip.\"\"\"\n",
        "    return pipette.drop_tip(*args, **kwargs)\n\n",
        "print(\"\u2705 Tasks defined successfully!\")"
      ]
    },
    {
      "cell_type": "markdown",
      "metadata": {},
      "source": [
        "## Step 4: Define and Run Your Flow\n\n",
        "Now you can define a `@flow` and call it directly in the same cell. Prefect will execute the protocol, and you will see the logs output directly below the cell. This allows for rapid testing and iteration of your protocol logic."
      ]
    },
    {
      "cell_type": "code",
      "execution_count": null,
      "metadata": {},
      "outputs": [],
      "source": [
        "@flow\n",
        "def my_interactive_protocol(simulation: bool = True):\n",
        "    \"\"\"An example flow to run interactively.\"\"\"\n",
        "    robot = None\n",
        "    try:\n",
        "        # Use the new connect() function with simulation alias\n",
        "        robot = connect(host_alias=\"ot2_sim\", simulation=simulation)\n",
        "        \n",
        "        # Load labware and instruments using the new API\n",
        "        plate = robot.deck.load_labware(\"corning_96_wellplate_360ul_flat\", location=\"1\")\n",
        "        tip_rack = robot.deck.load_labware(\"opentrons_96_tiprack_300ul\", location=\"2\")\n",
        "        pipette = robot.load_pipette(\"p300_single_gen2\", mount=\"right\")\n",
        "        \n",
        "        # Run a simple transfer\n",
        "        print(\"Running a simple transfer...\")\n",
        "        pick_up_tip(pipette)\n",
        "        aspirate(pipette, volume=50, location=plate[\"A1\"])\n",
        "        dispense(pipette, volume=50, location=plate[\"B1\"])\n",
        "        drop_tip(pipette)\n",
        "        print(\"Transfer complete.\")\n\n",
        "    finally:\n",
        "        if robot:\n",
        "            print(\"Closing robot connection.\")\n",
        "            robot.close()\n\n",
        "# --- Run the flow ---\n",
        "print(\"\ud83d\ude80 Starting interactive protocol...\")\n",
        "my_interactive_protocol(simulation=True)"
      ]
    },
    {
      "cell_type": "markdown",
      "metadata": {},
      "source": [
        "## Step 5: Customize Your Protocol\n\n",
        "You can now modify the protocol above or create new cells to test different operations. Here are some examples:"
      ]
    },
    {
      "cell_type": "code",
      "execution_count": null,
      "metadata": {},
      "outputs": [],
      "source": [
        "# Example: Serial dilution protocol\n",
        "@flow\n",
        "def serial_dilution_demo(simulation: bool = True):\n",
        "    \"\"\"Demonstrate a simple serial dilution.\"\"\"\n",
        "    robot = None\n",
        "    try:\n",
        "        robot = connect(host_alias=\"ot2_sim\", simulation=simulation)\n",
        "        \n",
        "        # Load labware\n",
        "        source_plate = robot.deck.load_labware(\"corning_96_wellplate_360ul_flat\", location=\"1\")\n",
        "        dilution_plate = robot.deck.load_labware(\"corning_96_wellplate_360ul_flat\", location=\"2\")\n",
        "        tip_rack = robot.deck.load_labware(\"opentrons_96_tiprack_300ul\", location=\"3\")\n",
        "        pipette = robot.load_pipette(\"p300_single_gen2\", mount=\"right\")\n",
        "        \n",
        "        # Perform serial dilution\n",
        "        print(\"Performing 1:2 serial dilution...\")\n",
        "        for i in range(8):  # Columns A-H\n",
        "            col = chr(65 + i)  # A, B, C, ..., H\n",
        "            \n",
        "            # Transfer from source to dilution plate\n",
        "            pick_up_tip(pipette)\n",
        "            aspirate(pipette, volume=100, location=source_plate[f\"{col}1\"])\n",
        "            dispense(pipette, volume=100, location=dilution_plate[f\"{col}1\"])\n",
        "            drop_tip(pipette)\n",
        "            \n",
        "            # Add diluent\n",
        "            pick_up_tip(pipette)\n",
        "            aspirate(pipette, volume=100, location=source_plate[f\"{col}2\"])\n",
        "            dispense(pipette, volume=100, location=dilution_plate[f\"{col}1\"])\n",
        "            drop_tip(pipette)\n",
        "        \n",
        "        print(\"Serial dilution complete!\")\n",
        "        \n",
        "    finally:\n",
        "        if robot:\n",
        "            robot.close()\n\n",
        "# Uncomment to run:\n",
        "# serial_dilution_demo(simulation=True)"
      ]
    },
    {
      "cell_type": "markdown",
      "metadata": {},
      "source": [
        "## Step 6: Flex Robot Example\n\n",
        "Here's an example using the Flex robot with gripper functionality:"
      ]
    },
    {
      "cell_type": "code",
      "execution_count": null,
      "metadata": {},
      "outputs": [],
      "source": [
        "@flow\n",
        "def flex_gripper_demo(simulation: bool = True):\n",
        "    \"\"\"Demonstrate Flex robot with gripper functionality.\"\"\"\n",
        "    robot = None\n",
        "    try:\n",
        "        # Connect to Flex robot\n",
        "        robot = connect(host_alias=\"flex_sim\", simulation=simulation)\n",
        "        \n",
        "        # Load labware\n",
        "        plate = robot.deck.load_labware(\"corning_96_wellplate_360ul_flat\", location=\"A1\")\n",
        "        tip_rack = robot.deck.load_labware(\"opentrons_96_tiprack_300ul\", location=\"A2\")\n",
        "        \n",
        "        # Load instruments\n",
        "        pipette = robot.load_pipette(\"p300_single_flex\", mount=\"left\")\n",
        "        gripper = robot.load_gripper()\n",
        "        \n",
        "        # Demonstrate gripper operations\n",
        "        print(\"Moving gripper to plate location...\")\n",
        "        gripper.move_to(plate.location)\n",
        "        \n",
        "        print(\"Gripping plate...\")\n",
        "        gripper.grip()\n",
        "        \n",
        "        print(\"Moving to new location...\")\n",
        "        gripper.move_to(robot.deck.get_slot(\"A3\"))\n",
        "        \n",
        "        print(\"Releasing plate...\")\n",
        "        gripper.ungrip()\n",
        "        \n",
        "        # Demonstrate pipette operations\n",
        "        print(\"Performing liquid transfer...\")\n",
        "        pick_up_tip(pipette)\n",
        "        aspirate(pipette, volume=50, location=plate[\"A1\"])\n",
        "        dispense(pipette, volume=50, location=plate[\"B1\"])\n",
        "        drop_tip(pipette)\n",
        "        \n",
        "        print(\"Flex demo complete!\")\n",
        "        \n",
        "    finally:\n",
        "        if robot:\n",
        "            robot.close()\n\n",
        "# Uncomment to run:\n",
        "# flex_gripper_demo(simulation=True)"
      ]
    },
    {
      "cell_type": "markdown",
      "metadata": {},
      "source": [
        "## Tips for Interactive Development\n\n",
        "1. **Always use `simulation=True`** during development to avoid accidents\n",
        "2. **Test small operations first** before building complex protocols\n",
        "3. **Use the `@robust_task` decorator** for automatic retry logic\n",
        "4. **Check your `user_scripts/sshclient_settings.json`** file to ensure your robot aliases are correct\n",
        "5. **Restart the kernel** if you encounter asyncio-related errors\n",
        "6. **Logs are automatically saved** to `user_scripts/logs/` with timestamps\n",
        "7. **Use the new `connect()` function** instead of direct class instantiation\n\n",
        "## Configuration Files\n\n",
        "All configuration files are now located in the `user_scripts/` directory:\n",
        "- `sshclient_settings.json` - Robot connection settings\n",
        "- `labware_definitions.py` - Custom labware definitions\n",
        "- `labware_template.json` - Labware generation template\n",
        "- `prefect_setup.py` - Prefect environment setup helper\n\n",
        "## Next Steps\n\n",
        "Once you're satisfied with your protocol in the notebook, you can:\n\n",
        "1. Copy the flow definition to a Python script\n",
        "2. Set `simulation=False` to run on a real robot\n",
        "3. Add more sophisticated error handling and logging\n",
        "4. Integrate with other Prefect features like scheduling and monitoring\n",
        "5. Generate custom labware using the `labware_generator.py` script"
      ]
    }
  ],
  "metadata": {
    "kernelspec": {
      "display_name": "Python 3",
      "language": "python",
      "name": "python3"
    },
    "language_info": {
      "codemirror_mode": {
        "name": "ipython",
        "version": 3
      },
      "file_extension": ".py",
      "mimetype": "text/x-python",
      "name": "python",
      "nbconvert_exporter": "python",
      "pygments_lexer": "ipython3",
      "version": "3.8.0"
    }
  },
  "nbformat": 4,
  "nbformat_minor": 4
}